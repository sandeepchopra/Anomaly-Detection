{
 "cells": [
  {
   "cell_type": "code",
   "execution_count": 8,
   "metadata": {
    "collapsed": false
   },
   "outputs": [
    {
     "data": {
      "image/png": "[encoded data removed]",
      "text/plain": [
       "<matplotlib.figure.Figure at 0xba77518>"
      ]
     },
     "metadata": {},
     "output_type": "display_data"
    }
   ],
   "source": [
    "import math\n",
    "import numpy as np\n",
    "import matplotlib.pyplot as plt\n",
    "from sklearn.datasets.samples_generator import make_blobs\n",
    "import random\n",
    "%matplotlib inline\n",
    "\n",
    "X, y = make_blobs(n_samples=200, centers=5, n_features=2,random_state=1)\n",
    "#print y\n",
    "plt.scatter(X[:,0],X[:,1])\n",
    "\n",
    "class Kmeans:\n",
    "    \n",
    "    def __init__(self,no_of_clusters=3,min_distance=.001,num_of_inter=20):\n",
    "        self.no_of_clusters=no_of_clusters\n",
    "        self.min_distance=min_distance\n",
    "        self.num_of_inter=100\n",
    "        # print 'init done'\n",
    "    \n",
    "    def fit(self,data):\n",
    "        converged=False\n",
    "        self.centroids=random.sample(data,self.no_of_clusters)\n",
    "        # print centroids\n",
    "        self.groups={}   # Groups as per each centroid\n",
    "        for i in range(self.no_of_clusters):\n",
    "            self.groups[i]=[]\n",
    "        \n",
    "        for i in range(self.num_of_inter):\n",
    "            # Calculate distance of vector from all centroids and assign it to centroid from which \n",
    "            # it has minimum distance.\n",
    "            for vector in data:\n",
    "                distances=[self.distance(vector,self.centroids[i]) for i in range(self.no_of_clusters)]\n",
    "                centroid_index=distances.index(min(distances))\n",
    "                self.groups[centroid_index].append(vector)\n",
    "            # print self.groups\n",
    "        \n",
    "            prev_centroids=self.centroids[:]\n",
    "            self.centroids=[]\n",
    "        \n",
    "            # Calculate new centroids\n",
    "            for key,list1 in self.groups.items():\n",
    "                # print list1\n",
    "                self.centroids.append(np.average(list1, axis = 0))\n",
    "            # print prev_centroids\n",
    "            # print self.centroids\n",
    "            diff_of_centroids=[]\n",
    "            for i in range(self.no_of_clusters):\n",
    "                diff_of_centroids.append(self.distance(self.centroids[i],prev_centroids[i]))\n",
    "            # print diff_of_centroids\n",
    "            if max(diff_of_centroids) < .0001:\n",
    "                break\n",
    "        \n",
    "    def distance(self,vector,centroid):\n",
    "        no_of_features=len(vector)\n",
    "        pythagoras_distance=0\n",
    "        for i in range(no_of_features):\n",
    "            pythagoras_distance+=math.pow((vector[i]-centroid[i]),2)\n",
    "        return math.sqrt(pythagoras_distance)\n",
    "         \n",
    "model=Kmeans(5)\n",
    "model.fit(X)\n",
    "# print model.groups\n",
    "\n",
    "# We will plot the clusters now\n",
    "colors = 5*[ \"b\", \"k\", \"r\", \"g\", \"c\"]\n",
    "\n",
    "for i,centroid in enumerate(model.centroids):\n",
    "    plt.scatter(centroid[0], centroid[1], color=colors[i], marker = \"x\")\n",
    "\n",
    "for group in model.groups:\n",
    "    color = colors[group]\n",
    "    for vector in model.groups[group]:\n",
    "        plt.scatter(vector[0], vector[1], color = color)"
   ]
  }
 ],
 "metadata": {
  "kernelspec": {
   "display_name": "Python 2",
   "language": "python",
   "name": "python2"
  },
  "language_info": {
   "codemirror_mode": {
    "name": "ipython",
    "version": 2
   },
   "file_extension": ".py",
   "mimetype": "text/x-python",
   "name": "python",
   "nbconvert_exporter": "python",
   "pygments_lexer": "ipython2",
   "version": "2.7.13"
  }
 },
 "nbformat": 4,
 "nbformat_minor": 2
}
